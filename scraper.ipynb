{
 "cells": [
  {
   "cell_type": "code",
   "execution_count": 96,
   "metadata": {},
   "outputs": [],
   "source": [
    "import os\n",
    "import time\n",
    "import json\n",
    "import requests\n",
    "from bs4 import BeautifulSoup\n",
    "from urllib.request import urlopen\n",
    "\n",
    "\n",
    "url = \"https://www.chrc-ccdp.gc.ca/eng/make-a-complaint\"\n",
    "soup = BeautifulSoup(urlopen(url), 'html.parser')\n"
   ]
  },
  {
   "cell_type": "code",
   "execution_count": 129,
   "metadata": {},
   "outputs": [],
   "source": [
    "def get_workplace_issue(soup):\n",
    "    options = soup.find_all('div', {\"class\":\"pane-content\"})\n",
    "    results = []\n",
    "    for option in options:\n",
    "        result = [issue.contents[0] for issue in option.find_all(\"option\")]\n",
    "        result.extend([issue.find_all(\"input\")[0]['value'] for issue in option.find_all(\"div\", {\"class\": \"checkbox\"})])\n",
    "        if \"Please Choose...\" in result:\n",
    "            result.remove(\"Please Choose...\")\n",
    "        if len(result) > 0:\n",
    "            results.append(result)\n",
    "    return results\n",
    "options = get_workplace_issue(soup)"
   ]
  },
  {
   "cell_type": "code",
   "execution_count": 134,
   "metadata": {},
   "outputs": [],
   "source": [
    "options_dict = dict(zip((\"What happened?\", \"Who is the employer?\",\n",
    "                    \"Why do you believe this happened?\", \"What Provice?\"), \n",
    "                  options))"
   ]
  },
  {
   "cell_type": "code",
   "execution_count": 135,
   "metadata": {},
   "outputs": [
    {
     "data": {
      "text/plain": [
       "{'What happened?': ['I was fired',\n",
       "  'I was demoted',\n",
       "  'I was not promoted',\n",
       "  'I did not receive a service',\n",
       "  'I was harassed',\n",
       "  'I had accessibility problems at work',\n",
       "  'I had accessibility problems when receiving a service',\n",
       "  'I was not accommodated at work',\n",
       "  'I was not accommodated when receiving a service',\n",
       "  'Other'],\n",
       " 'Who is the employer?': ['Provincial or territorial government department',\n",
       "  'Restaurant',\n",
       "  'Hospital',\n",
       "  'School',\n",
       "  'Local Police',\n",
       "  'Retail Store',\n",
       "  'Government of Canada Department, Crown Corporation',\n",
       "  'Bank',\n",
       "  'Airport or Airline',\n",
       "  'Ships and Navigation (Including Loading and Unloading Vessels)',\n",
       "  'TV or Radio Station',\n",
       "  'Phone or Internet provider',\n",
       "  'Transportation company (ferry, train, truck or bus)',\n",
       "  'First Nations government or band',\n",
       "  'RCMP',\n",
       "  'Other'],\n",
       " 'Why do you believe this happened?': ['race',\n",
       "  'nationality',\n",
       "  'colour',\n",
       "  'religion',\n",
       "  'age',\n",
       "  'sex',\n",
       "  'orientation',\n",
       "  'marital',\n",
       "  'family',\n",
       "  'disability',\n",
       "  'genetic',\n",
       "  'gender_identity',\n",
       "  'pardon',\n",
       "  'other'],\n",
       " 'What Provice?': ['Alberta',\n",
       "  'British Columbia',\n",
       "  'Manitoba',\n",
       "  'New Brunswick',\n",
       "  'Newfoundland & Labrador',\n",
       "  'Northwest Territories',\n",
       "  'Nova Scotia',\n",
       "  'Nunavut',\n",
       "  'Ontario',\n",
       "  'Prince Edward Island',\n",
       "  'Quebec',\n",
       "  'Saskatchewan',\n",
       "  'Yukon',\n",
       "  'Outside of Canada']}"
      ]
     },
     "execution_count": 135,
     "metadata": {},
     "output_type": "execute_result"
    }
   ],
   "source": [
    "options_dict"
   ]
  },
  {
   "cell_type": "code",
   "execution_count": 139,
   "metadata": {},
   "outputs": [],
   "source": [
    "data = \"work_issue.json\"\n",
    "\n",
    "import json\n",
    "with open(data, 'w') as fp:\n",
    "    json.dump(options_dict, fp)"
   ]
  },
  {
   "cell_type": "code",
   "execution_count": null,
   "metadata": {},
   "outputs": [],
   "source": []
  }
 ],
 "metadata": {
  "kernelspec": {
   "display_name": "Python 3",
   "language": "python",
   "name": "python3"
  },
  "language_info": {
   "codemirror_mode": {
    "name": "ipython",
    "version": 3
   },
   "file_extension": ".py",
   "mimetype": "text/x-python",
   "name": "python",
   "nbconvert_exporter": "python",
   "pygments_lexer": "ipython3",
   "version": "3.7.3"
  }
 },
 "nbformat": 4,
 "nbformat_minor": 4
}
